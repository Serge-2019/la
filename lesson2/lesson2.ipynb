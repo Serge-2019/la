{
 "cells": [
  {
   "cell_type": "code",
   "execution_count": 1,
   "metadata": {},
   "outputs": [],
   "source": [
    "import numpy as np"
   ]
  },
  {
   "cell_type": "markdown",
   "metadata": {
    "colab_type": "text",
    "id": "VAmOu--LIILw"
   },
   "source": [
    "## Практическое №1"
   ]
  },
  {
   "cell_type": "markdown",
   "metadata": {
    "colab_type": "text",
    "id": "APeDlmh8IIL1"
   },
   "source": [
    "Все задания рекомендуется делать вручную, затем проверяя полученные результаты с использованием numpy.\n",
    "\n",
    "__1.__ Установить, какие произведения матриц $AB$ и $BA$ определены, и найти размерности полученных матриц:\n",
    "\n",
    "   а) $A$ — матрица $4\\times 2$, $B$ — матрица $4\\times 2$;\n",
    "        \n",
    "> нельзя перемножить потому что необходимо чтобы число столбцов матрицы 𝐴 было равно числу строк матрицы 𝐵.\n",
    "        \n",
    "   б) $A$ — матрица $2\\times 5$, $B$ — матрица $5\\times 3$;\n",
    "        \n",
    "> можно перемножить только A * B потому что число столбцов матрицы 𝐴 равно числу строк матрицы 𝐵. Размерность в данном случае будет 2x3\n",
    "        \n",
    "   в) $A$ — матрица $8\\times 3$, $B$ — матрица $3\\times 8$;\n",
    "        \n",
    "> можно перемножить A * B и B * A так как выпоняется нужное условие столбцов и строк\n",
    "> A * B размерность будет 3x3\n",
    "> B * A размерность будет 8x8\n",
    "        \n",
    "   г) $A$ — квадратная матрица $4\\times 4$, $B$ — квадратная матрица $4\\times 4$.\n",
    "        \n",
    "> можно перемножить A * B и B * A так как выпоняется нужное условие столбцов и строк. Размерность в обоих случаях будет 4x4\n",
    "        \n",
    "    \n",
    "__2.__ Найти сумму и произведение матриц $A=\\begin{pmatrix}\n",
    "1 & -2\\\\ \n",
    "3 & 0\n",
    "\\end{pmatrix}$ и $B=\\begin{pmatrix}\n",
    "4 & -1\\\\ \n",
    "0 & 5\n",
    "\\end{pmatrix}.$\n",
    "\n",
    "<img src=\"lesson1.2.png\">"
   ]
  },
  {
   "cell_type": "code",
   "execution_count": 2,
   "metadata": {},
   "outputs": [
    {
     "name": "stdout",
     "output_type": "stream",
     "text": [
      "Сложение\n",
      " [[ 5 -3]\n",
      " [ 3  5]]\n",
      "Умножение\n",
      " [[  4 -11]\n",
      " [ 12  -3]]\n"
     ]
    }
   ],
   "source": [
    "a = np.array([[1, -2],[3,0]])\n",
    "b = np.array([[4, -1],[0,5]])\n",
    "print('Сложение\\n', a + b)\n",
    "print('Умножение\\n', a @ b)"
   ]
  },
  {
   "cell_type": "markdown",
   "metadata": {
    "colab_type": "text",
    "id": "APeDlmh8IIL1"
   },
   "source": [
    "__3.__ Из закономерностей сложения и умножения матриц на число можно сделать вывод, что матрицы одного размера образуют линейное пространство. Вычислить линейную комбинацию $3A-2B+4C$ для матриц $A=\\begin{pmatrix}\n",
    "1 & 7\\\\ \n",
    "3 & -6\n",
    "\\end{pmatrix}$, $B=\\begin{pmatrix}\n",
    "0 & 5\\\\ \n",
    "2 & -1\n",
    "\\end{pmatrix}$, $C=\\begin{pmatrix}\n",
    "2 & -4\\\\ \n",
    "1 & 1\n",
    "\\end{pmatrix}.$\n",
    "\n",
    "\n",
    "<img src=\"lesson1.3.png\">"
   ]
  },
  {
   "cell_type": "code",
   "execution_count": 3,
   "metadata": {},
   "outputs": [
    {
     "data": {
      "text/plain": [
       "array([[ 11,  -5],\n",
       "       [  9, -12]])"
      ]
     },
     "execution_count": 3,
     "metadata": {},
     "output_type": "execute_result"
    }
   ],
   "source": [
    "a = np.array([[1, 7], [3, -6]])\n",
    "b = np.array([[0, 5], [2, -1]])\n",
    "c = np.array([[2, -4], [1, 1]])\n",
    "\n",
    "3*a - 2*b + 4*c"
   ]
  },
  {
   "cell_type": "markdown",
   "metadata": {
    "colab_type": "text",
    "id": "APeDlmh8IIL1"
   },
   "source": [
    "__4.__ Дана матрица $A=\\begin{pmatrix}\n",
    "4 & 1\\\\ \n",
    "5 & -2\\\\ \n",
    "2 & 3\n",
    "\\end{pmatrix}$.\n",
    "Вычислить $AA^{T}$ и $A^{T}A$.\n",
    "\n",
    "<img src=\"lesson1.4.png\">"
   ]
  },
  {
   "cell_type": "code",
   "execution_count": 4,
   "metadata": {},
   "outputs": [
    {
     "name": "stdout",
     "output_type": "stream",
     "text": [
      "A * At =\n",
      " [[17 18 11]\n",
      " [18 29  4]\n",
      " [11  4 13]]\n",
      "At * A =\n",
      " [[45  0]\n",
      " [ 0 14]]\n"
     ]
    }
   ],
   "source": [
    "a = np.array([[4, 1], [5, -2], [2, 3]])\n",
    "\n",
    "print('A * At =\\n', a @ a.T)\n",
    "print('At * A =\\n', a.T @ a)"
   ]
  },
  {
   "cell_type": "markdown",
   "metadata": {
    "colab_type": "text",
    "id": "APeDlmh8IIL1"
   },
   "source": [
    "__5*.__ Написать на Python функцию для перемножения двух произвольных матриц, не используя NumPy."
   ]
  },
  {
   "cell_type": "code",
   "execution_count": 5,
   "metadata": {},
   "outputs": [
    {
     "name": "stdout",
     "output_type": "stream",
     "text": [
      "Результат:\n",
      " [[29, 32, 35, 38], [65, 72, 79, 86], [101, 112, 123, 134]]\n",
      "Проверка правильности функции:\n",
      " [[ True  True  True  True]\n",
      " [ True  True  True  True]\n",
      " [ True  True  True  True]]\n"
     ]
    }
   ],
   "source": [
    "def shape(a):\n",
    "    m = len(a)\n",
    "    n = len(a[0])\n",
    "    for i in a:\n",
    "        if len(i) != n:\n",
    "            raise NameError('Different dimension in arrays')\n",
    "    return (m, n)\n",
    "\n",
    "def dot(a, b):\n",
    "    m, n = shape(a)\n",
    "    n1, k = shape(b)\n",
    "\n",
    "    if n != n1:\n",
    "        raise NameError(f'Shapes ({m}, {n}) and ({n1}, {k}) not aligned')\n",
    "\n",
    "    res = []\n",
    "    for i in range(m):\n",
    "        row = []\n",
    "        for p in range(k):\n",
    "            sm = 0\n",
    "            for j in range(n):\n",
    "                sm += a[i][j] * b[j][p]\n",
    "            row.append(sm)\n",
    "        res.append(row)\n",
    "    return res\n",
    "        \n",
    "    \n",
    "\n",
    "a = np.array([[1,2],[3,4],[5,6]])\n",
    "b = np.array([[7,8,9,10], [11,12,13,14]])\n",
    "\n",
    "c = dot(a, b)\n",
    "correct = np.dot(a, b)\n",
    "\n",
    "print('Результат:\\n', c)\n",
    "print('Проверка правильности функции:\\n', correct == c)"
   ]
  },
  {
   "cell_type": "markdown",
   "metadata": {
    "colab_type": "text",
    "id": "VAmOu--LIILw"
   },
   "source": [
    "## Практическое №2"
   ]
  },
  {
   "cell_type": "markdown",
   "metadata": {},
   "source": [
    "Все задания рекомендуется выполнять вручную, затем проверяя полученные результаты с использованием Numpy.\n",
    "\n",
    "__1.__ Вычислить определитель:\n",
    "\n",
    "   a)\n",
    "\n",
    "$$\\begin{vmatrix}\n",
    "sinx & -cosx\\\\ \n",
    "cosx & sinx\n",
    "\\end{vmatrix};$$"
   ]
  },
  {
   "cell_type": "markdown",
   "metadata": {},
   "source": [
    "> $$sin(x)*sin(x) - (-cos(x)*cos(x)) = sin^2(x)+cos^2(x) = 1$$"
   ]
  },
  {
   "cell_type": "code",
   "execution_count": 6,
   "metadata": {},
   "outputs": [
    {
     "data": {
      "text/plain": [
       "1.0"
      ]
     },
     "execution_count": 6,
     "metadata": {},
     "output_type": "execute_result"
    }
   ],
   "source": [
    "from math import sin, cos\n",
    "x = 10\n",
    "a = np.array([[sin(x), -cos(x)], [cos(x), sin(x)]])\n",
    "np.linalg.det(a)"
   ]
  },
  {
   "cell_type": "markdown",
   "metadata": {},
   "source": [
    "   б)\n",
    "    \n",
    "$$\\begin{vmatrix}\n",
    "4 & 2 & 3\\\\ \n",
    "0 & 5 & 1\\\\ \n",
    "0 & 0 & 9\n",
    "\\end{vmatrix};$$\n",
    "    "
   ]
  },
  {
   "cell_type": "markdown",
   "metadata": {},
   "source": [
    "> согласно свойству №7 определителей так как матрица треугольная то определитель будет равен произведению по диагонали\n",
    ">\n",
    "> $$ 4 * 5 * 9 = 180$$"
   ]
  },
  {
   "cell_type": "code",
   "execution_count": 7,
   "metadata": {},
   "outputs": [
    {
     "data": {
      "text/plain": [
       "180.0"
      ]
     },
     "execution_count": 7,
     "metadata": {},
     "output_type": "execute_result"
    }
   ],
   "source": [
    "a = np.array([[4, 2, 3], [0, 5, 1], [0, 0, 9]])\n",
    "np.linalg.det(a)"
   ]
  },
  {
   "cell_type": "markdown",
   "metadata": {},
   "source": [
    "   в)\n",
    "\n",
    "$$\\begin{vmatrix}\n",
    "1 & 2 & 3\\\\ \n",
    "4 & 5 & 6\\\\ \n",
    "7 & 8 & 9\n",
    "\\end{vmatrix}.$$"
   ]
  },
  {
   "cell_type": "markdown",
   "metadata": {},
   "source": [
    "> разложим определитель по первой строке\n",
    "> $$(-1)^{1+1} * 1 * \\begin{vmatrix}\n",
    "5 & 6\\\\ \n",
    "8 & 9\n",
    "\\end{vmatrix} + (-1)^{1+2} * 2 * \\begin{vmatrix}\n",
    "4 & 6\\\\ \n",
    "5 & 9\n",
    "\\end{vmatrix} + (-1)^{1+3} * 3 * \\begin{vmatrix}\n",
    "4 & 5\\\\ \n",
    "7 & 8\n",
    "\\end{vmatrix} = $$\n",
    ">\n",
    "> $$ = 1*(5*9-8*6) - 2*(4*9-7*6) + 3*(4*8-7*5) = 0$$"
   ]
  },
  {
   "cell_type": "code",
   "execution_count": 8,
   "metadata": {},
   "outputs": [
    {
     "name": "stdout",
     "output_type": "stream",
     "text": [
      "-0\n"
     ]
    }
   ],
   "source": [
    "a = np.array([[1, 2, 3], [4, 5, 6], [7, 8, 9]])\n",
    "print(f'{np.linalg.det(a):.0f}')"
   ]
  },
  {
   "cell_type": "markdown",
   "metadata": {},
   "source": [
    "__2.__ Определитель матрицы $A$ равен $4$. Найти:\n",
    "\n",
    "   а) $det(A^{2})$;\n",
    "\n",
    "> будет равен 4 * 4 = 16 согласно свойству определителей №9\n",
    "> $$det(A * A)=detA\\cdot detA.$$\n",
    "    \n",
    "   б) $det(A^{T})$;\n",
    "   \n",
    "> будет равен 4 согласно свойству определителей №1    \n",
    "    \n",
    "   в) $det(2A)$.\n",
    "   \n",
    "> Если квадратная матрица n-того порядка умножается на некоторое ненулевое число, то определитель полученной матрицы равен произведению определителя исходной матрицы на это число в n-той степени:\n",
    "> $$ B = k·A => det(B) = k^n * det(A)$$\n",
    "> \n",
    "> Итого определитель будет равен $$2^n * 4$$ и будет зависитель от порядка матрицы"
   ]
  },
  {
   "cell_type": "code",
   "execution_count": 9,
   "metadata": {},
   "outputs": [
    {
     "name": "stdout",
     "output_type": "stream",
     "text": [
      "Пусть дана матрица A =\n",
      "[[1 2 3]\n",
      " [1 2 1]\n",
      " [2 3 4]]\n",
      "3-го порядка и ее определитель равен = -2.0\n",
      "тогда det(2*A) = -16.0\n",
      "\n",
      "Проверяем через питон = -16\n"
     ]
    }
   ],
   "source": [
    "a = np.array([[1, 2, 3], [1, 2, 1], [2, 3, 4]])\n",
    "n = np.linalg.matrix_rank(a)\n",
    "d = np.linalg.det(a)\n",
    "\n",
    "print(f'Пусть дана матрица A =\\n{a}\\n{n}-го порядка и ее определитель равен = {d}\\nтогда det(2*A) = {pow(2,3) * d}\\n')\n",
    "print(f'Проверяем через питон = {np.linalg.det(2*a):.0f}')"
   ]
  },
  {
   "cell_type": "markdown",
   "metadata": {},
   "source": [
    "__3.__  Доказать, что матрица\n",
    "\n",
    "$$\\begin{pmatrix}\n",
    "-2 & 7 & -3\\\\ \n",
    "4 & -14 & 6\\\\ \n",
    "-3 & 7 & 13\n",
    "\\end{pmatrix}$$\n",
    "   \n",
    "вырожденная."
   ]
  },
  {
   "cell_type": "markdown",
   "metadata": {},
   "source": [
    "> Матрица называется сингулярной, или вырожденной, если ее определитель равен нулю."
   ]
  },
  {
   "cell_type": "code",
   "execution_count": 10,
   "metadata": {},
   "outputs": [
    {
     "name": "stdout",
     "output_type": "stream",
     "text": [
      "Так как определитель матрицы = 0 данная матрица является вырожденной\n"
     ]
    }
   ],
   "source": [
    "a = np.array([[-2, 7, -3], [4, -14, 6], [-3, 7, 13]])\n",
    "d = np.linalg.det(a)\n",
    "\n",
    "if d == 0:\n",
    "    print('Так как определитель матрицы = 0 данная матрица является вырожденной')\n",
    "else:\n",
    "    print('Матрица является НЕвырожденной')"
   ]
  },
  {
   "cell_type": "markdown",
   "metadata": {},
   "source": [
    "__4.__ Найти ранг матрицы:\n",
    "\n",
    "   а) $\\begin{pmatrix}\n",
    "1 & 2 & 3\\\\ \n",
    "1 & 1 & 1\\\\ \n",
    "2 & 3 & 4\n",
    "\\end{pmatrix};$"
   ]
  },
  {
   "cell_type": "markdown",
   "metadata": {},
   "source": [
    "> 3тья строка является суммой 1ой и 2ой значит ее отбрасываем\n",
    ">\n",
    "> $\\begin{pmatrix}\n",
    "1 & 2 & 3\\\\ \n",
    "1 & 1 & 1\n",
    "\\end{pmatrix}$\n",
    ">\n",
    "> больше преобразований сделать не получиться поэтому ранг матрицы равен 2"
   ]
  },
  {
   "cell_type": "code",
   "execution_count": 11,
   "metadata": {},
   "outputs": [
    {
     "data": {
      "text/plain": [
       "2"
      ]
     },
     "execution_count": 11,
     "metadata": {},
     "output_type": "execute_result"
    }
   ],
   "source": [
    "a = np.array([[1, 2, 3], [1, 1, 1], [2, 3, 4]])\n",
    "np.linalg.matrix_rank(a)"
   ]
  },
  {
   "cell_type": "markdown",
   "metadata": {},
   "source": [
    "   б) $\\begin{pmatrix}\n",
    "0 & 0 & 2 & 1\\\\ \n",
    "0 & 0 & 2 & 2\\\\ \n",
    "0 & 0 & 4 & 3\\\\ \n",
    "2 & 3 & 5 & 6\n",
    "\\end{pmatrix}.$"
   ]
  },
  {
   "cell_type": "markdown",
   "metadata": {},
   "source": [
    "> 3тья строка является суммой 1ой и 2ой значит ее отбрасываем\n",
    ">\n",
    "> $\\begin{pmatrix}\n",
    "0 & 0 & 2 & 1\\\\ \n",
    "0 & 0 & 2 & 2\\\\ \n",
    "2 & 3 & 5 & 6\n",
    "\\end{pmatrix}$\n",
    ">\n",
    "> больше преобразований сделать не получиться поэтому ранг матрицы равен 3"
   ]
  },
  {
   "cell_type": "code",
   "execution_count": 12,
   "metadata": {},
   "outputs": [
    {
     "data": {
      "text/plain": [
       "3"
      ]
     },
     "execution_count": 12,
     "metadata": {},
     "output_type": "execute_result"
    }
   ],
   "source": [
    "a = np.array([[0, 0, 2, 1], [0, 0, 2, 2], [0, 0, 4, 3], [2, 3, 5, 6]])\n",
    "np.linalg.matrix_rank(a)"
   ]
  }
 ],
 "metadata": {
  "colab": {
   "collapsed_sections": [],
   "name": "Lesson_3-REVISED.ipynb",
   "provenance": []
  },
  "kernelspec": {
   "display_name": "Python 3",
   "language": "python",
   "name": "python3"
  },
  "language_info": {
   "codemirror_mode": {
    "name": "ipython",
    "version": 3
   },
   "file_extension": ".py",
   "mimetype": "text/x-python",
   "name": "python",
   "nbconvert_exporter": "python",
   "pygments_lexer": "ipython3",
   "version": "3.7.1"
  }
 },
 "nbformat": 4,
 "nbformat_minor": 1
}

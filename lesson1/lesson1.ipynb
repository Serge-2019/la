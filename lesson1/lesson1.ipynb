{
 "cells": [
  {
   "cell_type": "markdown",
   "metadata": {
    "colab_type": "text",
    "id": "aU5YNMH9kVqP"
   },
   "source": [
    "## Практическое задание №1"
   ]
  },
  {
   "cell_type": "markdown",
   "metadata": {
    "colab_type": "text",
    "id": "SmdURZ_OkVqQ"
   },
   "source": [
    "__1.__ Исследовать на линейную зависимость:\n",
    "$$f_{1}(x)=e^{x}, f_{2}(x)=1, f_{3}(x)=x+1, f_{4}(x)=x-e^{x}.$$"
   ]
  },
  {
   "cell_type": "markdown",
   "metadata": {},
   "source": [
    "> f4 и f1 является линейно зависимыми, потому что:\n",
    "$$f_{4}(x)=x - f_{1}(x)$$\n",
    "\n",
    "> f2 и f3 является линейно зависимыми, потому что:\n",
    "$$f_{3}(x)=x+f_{2}(x)$$\n",
    "\n",
    "\n",
    "> f4, f1 независимы от f2, f3\n"
   ]
  },
  {
   "cell_type": "markdown",
   "metadata": {
    "colab_type": "text",
    "id": "cECfCSANkVqR"
   },
   "source": [
    "__2.__ Исследовать на линейную зависимость:\n",
    "$$f_{1}(x)=2, f_{2}(x)=x, f_{3}(x)=x^{2}, f_{4}(x)=(x+1)^{2}.$$"
   ]
  },
  {
   "cell_type": "markdown",
   "metadata": {},
   "source": [
    "> являются линейно зависимымим потому что:\n",
    "\n",
    "$$f_{4}(x)=x^{2}+2x+1 => f_{4}(x)=f_{3}(x)+f_{1}(x)*f_{2}(x)+1$$"
   ]
  },
  {
   "cell_type": "markdown",
   "metadata": {
    "colab_type": "text",
    "id": "DFrjdtbHkVqS"
   },
   "source": [
    "__3.__ Найти координаты вектора $x = (2, 3, 5)\\in \\mathbb{R}^{3}$ в базисе $b_{1}=(0, 0, 10)$, $b_{2}=(2, 0, 0)$, $b_{3}=(0, 1, 0)$."
   ]
  },
  {
   "cell_type": "markdown",
   "metadata": {},
   "source": [
    "$$0*a_{1}+0*a_{2}+10*a_{3}=2$$\n",
    "$$2*a_{1}+0*a_{2}+0*a_{3}=3$$\n",
    "$$0*a_{1}+1*a_{2}+0*a_{3}=5$$\n",
    "\n",
    "> следовательно:\n",
    "\n",
    "$$x=(3/2, 5, 1/5)$$\n"
   ]
  },
  {
   "cell_type": "markdown",
   "metadata": {
    "colab_type": "text",
    "id": "5la-eVLukVqT"
   },
   "source": [
    "__4.__ Найти координаты вектора $3x^{2}-2x+2\\in\\mathbb{R}^{3}[x]$:\n",
    "\n",
    "   а) в базисе $1$, $x$, $x^{2}$;"
   ]
  },
  {
   "cell_type": "markdown",
   "metadata": {},
   "source": [
    "> Задача сводится к стандартной - Найти координаты вектора (3,-2,2) в базисе из векторов (0,0,1), (0,1,0), (1,0,0)\n",
    "\n",
    "> **итого координаты будут равны (2, -2, 3)**"
   ]
  },
  {
   "cell_type": "markdown",
   "metadata": {
    "colab_type": "text",
    "id": "5la-eVLukVqT"
   },
   "source": [
    "   б) в базисе $x^{2}$, $x-1$, $1$."
   ]
  },
  {
   "cell_type": "markdown",
   "metadata": {},
   "source": [
    "> Задача сводится к стандартной - Найти координаты вектора (3,-2,2) в базисе из векторов (1,0,0), (0,1,-1), (0,0,1)\n",
    "\n",
    "> **итого координаты будут равны (3, 0, 2)**"
   ]
  },
  {
   "cell_type": "markdown",
   "metadata": {
    "colab_type": "text",
    "id": "kQlell_GkVqU"
   },
   "source": [
    "__5.__ Установить, является ли линейным подпространством:\n",
    "\n",
    "а) совокупность всех векторов трехмерного пространства, у которых по крайней мере одна из первых двух координат равна нулю;\n",
    "\n",
    "> да, соответсвует примеру из методички (0,𝑎,𝑏)\n",
    "    \n",
    "б) все векторы, являющиеся линейными комбинациями данных векторов $\\{u_{1}, u_{2}, ..., u_{n}\\}$.\n",
    "\n",
    "> да - это линейная оболочка"
   ]
  },
  {
   "cell_type": "markdown",
   "metadata": {
    "colab_type": "text",
    "id": "aU5YNMH9kVqP"
   },
   "source": [
    "## Практическое задание №2"
   ]
  },
  {
   "cell_type": "code",
   "execution_count": 1,
   "metadata": {},
   "outputs": [],
   "source": [
    "import numpy as np\n",
    "from math import sqrt"
   ]
  },
  {
   "cell_type": "markdown",
   "metadata": {},
   "source": [
    "__1.__ Найти скалярное произведение векторов $x, y \\in \\mathbb{R}$:<br>\n",
    "а) $x=(0,-3, 6),~y=(-4, 7, 9);$<br>"
   ]
  },
  {
   "cell_type": "markdown",
   "metadata": {},
   "source": [
    "$$(x, y) = 0*(-4) + (-3)*7 + 6*9 = 33$$"
   ]
  },
  {
   "cell_type": "code",
   "execution_count": 2,
   "metadata": {},
   "outputs": [
    {
     "data": {
      "text/plain": [
       "33"
      ]
     },
     "execution_count": 2,
     "metadata": {},
     "output_type": "execute_result"
    }
   ],
   "source": [
    "x = np.array([0, -3, 6])\n",
    "y = np.array([-4, 7, 9])\n",
    "\n",
    "np.dot(x,y)"
   ]
  },
  {
   "cell_type": "markdown",
   "metadata": {},
   "source": [
    "б) $x=(7, -4, 0, 1),~y=(-3, 1, 11, 2).$"
   ]
  },
  {
   "cell_type": "markdown",
   "metadata": {},
   "source": [
    "$$(x, y) = 7*(-3) + (-4)*1 + 0*11 + 1*2 = -23$$"
   ]
  },
  {
   "cell_type": "code",
   "execution_count": 3,
   "metadata": {},
   "outputs": [
    {
     "data": {
      "text/plain": [
       "-23"
      ]
     },
     "execution_count": 3,
     "metadata": {},
     "output_type": "execute_result"
    }
   ],
   "source": [
    "x = np.array([7, -4, 0, 1])\n",
    "y = np.array([-3, 1, 11, 2])\n",
    "\n",
    "np.dot(x,y)"
   ]
  },
  {
   "cell_type": "markdown",
   "metadata": {},
   "source": [
    "__2.__ Найти нормы векторов $(4, 2, 4)$ и $(12, 3, 4)$ и угол между ними."
   ]
  },
  {
   "cell_type": "code",
   "execution_count": 4,
   "metadata": {},
   "outputs": [
    {
     "name": "stdout",
     "output_type": "stream",
     "text": [
      "Норма манхэттенская\n",
      " ||x||= 10.0\n",
      " ||y||= 19.0\n",
      "Норма евклидова\n",
      " ||x||= 6.0\n",
      " ||y||= 13.0\n",
      "Угол между x и y: 0.46\n"
     ]
    }
   ],
   "source": [
    "x = np.array([4, 2, 4])\n",
    "y = np.array([12, 3, 4])\n",
    "\n",
    "print(f'Норма манхэттенская\\n ||x||= {np.linalg.norm(x, 1)}\\n ||y||= {np.linalg.norm(y, 1)}')\n",
    "print(f'Норма евклидова\\n ||x||= {np.linalg.norm(x, 2)}\\n ||y||= {np.linalg.norm(y, 2)}')\n",
    "\n",
    "cp = np.dot(x, y) / (np.linalg.norm(x) * np.linalg.norm(y))\n",
    "print(f'Угол между x и y: {np.arccos(cp):.2f}')"
   ]
  },
  {
   "cell_type": "markdown",
   "metadata": {},
   "source": [
    "__3.__ Будет ли линейное пространство евклидовым, если за скалярное произведение принять:\n",
    "\n",
    "а) произведение длин векторов;\n",
    "> да\n",
    "\n",
    "б) утроенное обычное скалярное произведение векторов?   \n",
    "> нет"
   ]
  },
  {
   "cell_type": "markdown",
   "metadata": {},
   "source": [
    "__4.__ Какие из нижеперечисленных векторов образуют ортонормированный базис в линейном пространстве $\\mathbb{R}^{3}$:"
   ]
  },
  {
   "cell_type": "code",
   "execution_count": 5,
   "metadata": {},
   "outputs": [],
   "source": [
    "def checkOrto(a, b, c):\n",
    "    e0 = np.dot(a,b) + np.dot(b,c) + np.dot(c,a)\n",
    "    e1 = np.dot(a,a) * np.dot(b,b) * np.dot(c,c)\n",
    "    return e0 == 0 and e1 == 1"
   ]
  },
  {
   "cell_type": "markdown",
   "metadata": {},
   "source": [
    "а) $(1,0,0),(0,0,1);$\n",
    "> нет потому что только 2 вектора"
   ]
  },
  {
   "cell_type": "markdown",
   "metadata": {},
   "source": [
    "б) $(1/\\sqrt{2},-1/\\sqrt{2},0),(1/\\sqrt{2},1/\\sqrt{2},0), (0,0,1);$\n",
    "> нет"
   ]
  },
  {
   "cell_type": "code",
   "execution_count": 6,
   "metadata": {},
   "outputs": [
    {
     "name": "stdout",
     "output_type": "stream",
     "text": [
      "False\n"
     ]
    }
   ],
   "source": [
    "a = np.array([1/sqrt(2), -1/sqrt(2), 0])\n",
    "b = np.array([1/sqrt(2), 1/sqrt(2), 0])\n",
    "c = np.array([0, 0, 1])\n",
    "print(checkOrto(a, b, c))"
   ]
  },
  {
   "cell_type": "markdown",
   "metadata": {},
   "source": [
    "в) $(1/2, -1/2, 0), (0, 1/2, 1/2), (0,0,1);$\n",
    "> нет"
   ]
  },
  {
   "cell_type": "code",
   "execution_count": 7,
   "metadata": {},
   "outputs": [
    {
     "name": "stdout",
     "output_type": "stream",
     "text": [
      "False\n"
     ]
    }
   ],
   "source": [
    "a = np.array([1/2, -1/2, 0])\n",
    "b = np.array([0, 1/2, 1/2])\n",
    "c = np.array([0, 0, 1])\n",
    "print(checkOrto(a, b, c))"
   ]
  },
  {
   "cell_type": "markdown",
   "metadata": {},
   "source": [
    "г) $(1,0,0),(0,1,0),(0,0,1)?$ \n",
    "> да - 3 вектора единичной длины"
   ]
  },
  {
   "cell_type": "code",
   "execution_count": 8,
   "metadata": {},
   "outputs": [
    {
     "name": "stdout",
     "output_type": "stream",
     "text": [
      "True\n"
     ]
    }
   ],
   "source": [
    "a = np.array([1, 0, 0])\n",
    "b = np.array([0, 1, 0])\n",
    "c = np.array([0, 0, 1])\n",
    "print(checkOrto(a, b, c))"
   ]
  }
 ],
 "metadata": {
  "colab": {
   "collapsed_sections": [],
   "name": "Lesson_1-REVISED.ipynb",
   "provenance": []
  },
  "kernelspec": {
   "display_name": "Python 3",
   "language": "python",
   "name": "python3"
  },
  "language_info": {
   "codemirror_mode": {
    "name": "ipython",
    "version": 3
   },
   "file_extension": ".py",
   "mimetype": "text/x-python",
   "name": "python",
   "nbconvert_exporter": "python",
   "pygments_lexer": "ipython3",
   "version": "3.7.1"
  }
 },
 "nbformat": 4,
 "nbformat_minor": 1
}

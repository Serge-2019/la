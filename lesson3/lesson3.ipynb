{
 "cells": [
  {
   "cell_type": "markdown",
   "metadata": {
    "colab_type": "text",
    "id": "qyU0wiO2CG2Q"
   },
   "source": [
    "## Практическое задание"
   ]
  },
  {
   "cell_type": "code",
   "execution_count": 1,
   "metadata": {},
   "outputs": [],
   "source": [
    "import numpy as np\n",
    "np.set_printoptions(precision=2, suppress=True)"
   ]
  },
  {
   "cell_type": "markdown",
   "metadata": {
    "colab_type": "text",
    "id": "sNOgFRFrCG2S"
   },
   "source": [
    "__1.__ Найти собственные векторы и собственные значения для линейного оператора, заданного матрицей\n",
    "\n",
    "$$A=\\begin{pmatrix}\n",
    "-1 & -6\\\\ \n",
    "2 & 6\n",
    "\\end{pmatrix}.$$"
   ]
  },
  {
   "cell_type": "markdown",
   "metadata": {},
   "source": [
    "> <img src=\"lesson3.1.png\">\n",
    ">\n",
    "> Получаются вектора\n",
    "> $$\\begin{pmatrix}\n",
    "2 \\\\ \n",
    "-1 \n",
    "\\end{pmatrix} \\begin{pmatrix}\n",
    "3 \\\\ \n",
    "-2 \n",
    "\\end{pmatrix}$$"
   ]
  },
  {
   "cell_type": "code",
   "execution_count": 6,
   "metadata": {},
   "outputs": [
    {
     "name": "stdout",
     "output_type": "stream",
     "text": [
      "Собственные значения:\n",
      "[2. 3.]\n",
      "Собственные векторы:\n",
      "[[-0.89  0.83]\n",
      " [ 0.45 -0.55]]\n"
     ]
    }
   ],
   "source": [
    "a = np.array([[-1, -6], [2, 6]])\n",
    "w, v = np.linalg.eig(a)\n",
    "print(f'Собственные значения:\\n{w}')\n",
    "print(f'Собственные векторы:\\n{v}')"
   ]
  },
  {
   "cell_type": "markdown",
   "metadata": {
    "colab_type": "text",
    "id": "sNOgFRFrCG2S"
   },
   "source": [
    "__2.__ Дан оператор поворота на 180 градусов, задаваемый матрицей \n",
    "\n",
    "$$A=\\begin{pmatrix}\n",
    "-1 & 0\\\\ \n",
    "0 & -1\n",
    "\\end{pmatrix}.$$\n",
    "\n",
    "Показать, что __любой__ вектор является для него собственным."
   ]
  },
  {
   "cell_type": "markdown",
   "metadata": {},
   "source": [
    "> <img src=\"lesson3.2.png\">"
   ]
  },
  {
   "cell_type": "markdown",
   "metadata": {
    "colab_type": "text",
    "id": "sNOgFRFrCG2S"
   },
   "source": [
    "__3.__ Пусть линейный оператор задан матрицей\n",
    "\n",
    "$$A=\\begin{pmatrix}\n",
    "1 & 1\\\\ \n",
    "-1 & 3\n",
    "\\end{pmatrix}.$$\n",
    "\n",
    "Установить, является ли вектор $x=(1,1)$ собственным вектором этого линейного оператора."
   ]
  },
  {
   "cell_type": "markdown",
   "metadata": {},
   "source": [
    "> Да является потому что можно найти Lambda\n",
    ">\n",
    "> <img src=\"lesson3.3.png\">"
   ]
  },
  {
   "cell_type": "code",
   "execution_count": 4,
   "metadata": {},
   "outputs": [
    {
     "name": "stdout",
     "output_type": "stream",
     "text": [
      "Собственные значения:\n",
      "[2. 2.]\n",
      "Собственные векторы:\n",
      "[[ 0.71 -0.71]\n",
      " [ 0.71 -0.71]]\n"
     ]
    }
   ],
   "source": [
    "a = np.array([[1, 1], [-1, 3]])\n",
    "w, v = np.linalg.eig(a)\n",
    "print(f'Собственные значения:\\n{w}')\n",
    "print(f'Собственные векторы:\\n{v}')"
   ]
  },
  {
   "cell_type": "markdown",
   "metadata": {
    "colab_type": "text",
    "id": "sNOgFRFrCG2S"
   },
   "source": [
    "__4.__ Пусть линейный оператор задан матрицей\n",
    "\n",
    "$$A=\\begin{pmatrix}\n",
    "0 & 3 & 0\\\\ \n",
    "3 & 0 & 0\\\\\n",
    "0 & 0 & 3\n",
    "\\end{pmatrix}.$$\n",
    "\n",
    "Установить, является ли вектор $x=(3, -3, -4)$ собственным вектором этого линейного оператора."
   ]
  },
  {
   "cell_type": "markdown",
   "metadata": {},
   "source": [
    "> НЕТ не является потому что нельзя найти Lambda\n",
    ">\n",
    "> <img src=\"lesson3.4.png\">"
   ]
  },
  {
   "cell_type": "code",
   "execution_count": 5,
   "metadata": {},
   "outputs": [
    {
     "name": "stdout",
     "output_type": "stream",
     "text": [
      "Собственные значения:\n",
      "[ 3. -3.  3.]\n",
      "Собственные векторы:\n",
      "[[ 0.71 -0.71  0.  ]\n",
      " [ 0.71  0.71  0.  ]\n",
      " [ 0.    0.    1.  ]]\n"
     ]
    }
   ],
   "source": [
    "a = np.array([[0, 3, 0], [3, 0, 0], [0, 0, 3]])\n",
    "w, v = np.linalg.eig(a)\n",
    "print(f'Собственные значения:\\n{w}')\n",
    "print(f'Собственные векторы:\\n{v}')"
   ]
  }
 ],
 "metadata": {
  "colab": {
   "collapsed_sections": [
    "u60X7ANcCG2V"
   ],
   "name": "Lesson_5-REVISED.ipynb",
   "provenance": []
  },
  "kernelspec": {
   "display_name": "Python 3",
   "language": "python",
   "name": "python3"
  },
  "language_info": {
   "codemirror_mode": {
    "name": "ipython",
    "version": 3
   },
   "file_extension": ".py",
   "mimetype": "text/x-python",
   "name": "python",
   "nbconvert_exporter": "python",
   "pygments_lexer": "ipython3",
   "version": "3.7.1"
  }
 },
 "nbformat": 4,
 "nbformat_minor": 1
}
